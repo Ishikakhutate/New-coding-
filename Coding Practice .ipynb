{
 "cells": [
  {
   "cell_type": "code",
   "execution_count": 2,
   "id": "18097d7e",
   "metadata": {},
   "outputs": [
    {
     "name": "stdout",
     "output_type": "stream",
     "text": [
      "Smallest element in list: 6\n"
     ]
    }
   ],
   "source": [
    "#Python program to find smallest number in a list\n",
    "list = [33,6,8,9,11]\n",
    "list.sort()\n",
    "print('Smallest element in list:', list[0])"
   ]
  },
  {
   "cell_type": "code",
   "execution_count": 8,
   "id": "d6b0b872",
   "metadata": {},
   "outputs": [
    {
     "name": "stdout",
     "output_type": "stream",
     "text": [
      "element not found\n"
     ]
    }
   ],
   "source": [
    "#Handling Missing Keys in Python Dictionaries\n",
    "dict = {'a': 'abc', 'b' : 'xyz','c' : 'pqr'}\n",
    "if 'q' in dict:\n",
    "    print('element [d]')\n",
    "else:\n",
    "    print('element not found')"
   ]
  },
  {
   "cell_type": "code",
   "execution_count": 1,
   "id": "fb4736a2",
   "metadata": {},
   "outputs": [
    {
     "name": "stdout",
     "output_type": "stream",
     "text": [
      "The original list: [2, 4, 6, [], 7, 8, 9, [], 10, 11, [], [], 13, 14]\n",
      "After removal: [2, 4, 6, 7, 8, 9, 10, 11, 13, 14]\n"
     ]
    }
   ],
   "source": [
    "#Remove empty List from List\n",
    "list1 = [2,4,6,[],7,8,9,[],10,11,[],[],13,14]\n",
    "print('The original list:',list1)\n",
    "result = list(filter(None, list1))\n",
    "print('After removal:',result)\n"
   ]
  },
  {
   "cell_type": "code",
   "execution_count": 6,
   "id": "df10a81a",
   "metadata": {},
   "outputs": [
    {
     "name": "stdout",
     "output_type": "stream",
     "text": [
      "The sum of two array: 36\n"
     ]
    }
   ],
   "source": [
    "#Sum of array \n",
    "arr1 = [1,2,3,4]\n",
    "arr2 = [4,6,7,9]\n",
    "arr3 = sum(arr1+arr2)\n",
    "print('The sum of two array:',arr3)"
   ]
  },
  {
   "cell_type": "code",
   "execution_count": 11,
   "id": "05a490cc",
   "metadata": {},
   "outputs": [
    {
     "name": "stdout",
     "output_type": "stream",
     "text": [
      "* \r\n",
      "* * \r\n",
      "* * * \r\n",
      "* * * * \r\n",
      "* * * * * \r\n",
      "* * * * * * \r\n"
     ]
    }
   ],
   "source": [
    "def myfun(n):\n",
    "    for i in range(0,n):\n",
    "        for j in range(0,i+1):\n",
    "            print('* ', end = '')\n",
    "        print('\\r')\n",
    "n = 6\n",
    "myfun(n)\n",
    "        "
   ]
  },
  {
   "cell_type": "code",
   "execution_count": null,
   "id": "d4312123",
   "metadata": {},
   "outputs": [],
   "source": []
  }
 ],
 "metadata": {
  "kernelspec": {
   "display_name": "Python 3 (ipykernel)",
   "language": "python",
   "name": "python3"
  },
  "language_info": {
   "codemirror_mode": {
    "name": "ipython",
    "version": 3
   },
   "file_extension": ".py",
   "mimetype": "text/x-python",
   "name": "python",
   "nbconvert_exporter": "python",
   "pygments_lexer": "ipython3",
   "version": "3.9.12"
  }
 },
 "nbformat": 4,
 "nbformat_minor": 5
}
