{
 "cells": [
  {
   "cell_type": "code",
   "execution_count": 3,
   "id": "2063580f",
   "metadata": {},
   "outputs": [
    {
     "name": "stdout",
     "output_type": "stream",
     "text": [
      "enter the number121\n",
      "Number is Palindrome\n"
     ]
    }
   ],
   "source": [
    "#palindrome program \n",
    "n = int(input(\"enter the number\"))\n",
    "temp = n\n",
    "rev = 0\n",
    "while(n>0):\n",
    "    digit = n%10\n",
    "    rev = rev*10+digit\n",
    "    n = n//10\n",
    "if(rev == temp): \n",
    "    print(\"Number is Palindrome\")\n",
    "else:\n",
    "    print(\"Number is not a Palindrome\")"
   ]
  },
  {
   "cell_type": "code",
   "execution_count": 7,
   "id": "3b653bf2",
   "metadata": {},
   "outputs": [
    {
     "name": "stdout",
     "output_type": "stream",
     "text": [
      "25\n"
     ]
    }
   ],
   "source": [
    "#write a python function to find the maximum of three \n",
    "list = [22,25,1]\n",
    "print(max(list))"
   ]
  },
  {
   "cell_type": "code",
   "execution_count": 13,
   "id": "c13b058c",
   "metadata": {},
   "outputs": [
    {
     "name": "stdout",
     "output_type": "stream",
     "text": [
      "41 is greater\n"
     ]
    }
   ],
   "source": [
    "#write a python program to find the maximum of three using if else\n",
    "num1 = 10\n",
    "num2 = 23\n",
    "num3 = 41\n",
    "\n",
    "if(num1 >=num2 and num1>=num3):\n",
    "    print(\"10 is greater\")\n",
    "elif(num2>=num1 and num2>=num3):\n",
    "        print(\"23 is greater\")\n",
    "else:\n",
    "        print(\"41 is greater\")"
   ]
  },
  {
   "cell_type": "code",
   "execution_count": 1,
   "id": "f3c33b9d",
   "metadata": {},
   "outputs": [
    {
     "name": "stdout",
     "output_type": "stream",
     "text": [
      "sum of all numbers in list: 20\n"
     ]
    }
   ],
   "source": [
    "#Write a python function to sum all the numbers in list\n",
    "list = [8,2,3,0,7]\n",
    "total = sum(list)\n",
    "print(\"sum of all numbers in list:\",total)"
   ]
  },
  {
   "cell_type": "code",
   "execution_count": 4,
   "id": "7d2b753c",
   "metadata": {},
   "outputs": [
    {
     "name": "stdout",
     "output_type": "stream",
     "text": [
      "Sum of elements in list: 20\n"
     ]
    }
   ],
   "source": [
    "#Write a python function to sum all the numbers in list\n",
    "total = 0\n",
    "ele = 0\n",
    "List1 = [8,2,3,0,7]\n",
    "while(ele < len(List1)):\n",
    "    total = total + List1[ele]\n",
    "    ele += 1\n",
    "    \n",
    "print(\"Sum of elements in list:\",total)\n"
   ]
  },
  {
   "cell_type": "code",
   "execution_count": 19,
   "id": "f82b6e06",
   "metadata": {},
   "outputs": [
    {
     "name": "stdout",
     "output_type": "stream",
     "text": [
      "enter the reverse stringcba321\n"
     ]
    }
   ],
   "source": [
    "#reverse a string \n",
    "\n",
    "def reverse(string):\n",
    "    \n",
    "    string = string [::-1]\n",
    "    return string \n",
    "s = \"123abc\"\n",
    "print(\"enter the reverse string\",end='') #imp line (end=\"\")\n",
    "print(reverse(s))  \n",
    "\n"
   ]
  },
  {
   "cell_type": "code",
   "execution_count": 16,
   "id": "702b6ad9",
   "metadata": {},
   "outputs": [
    {
     "name": "stdout",
     "output_type": "stream",
     "text": [
      "enter a number:5\n",
      "The factorial 5 is 120\n"
     ]
    }
   ],
   "source": [
    "#Python function to calculate factorial of a number\n",
    "num =int(input(\"enter a number:\"))\n",
    "factorial = 1\n",
    "if num < 0 :\n",
    "    print(\"The factorial of negative is not possible.\")\n",
    "elif num == 0:\n",
    "    print(\"The Factorial of zero is 1.\")\n",
    "else:\n",
    "    for i in range(1,num+1):\n",
    "        factorial = factorial*i\n",
    "    print(\"The factorial\", num ,\"is\" ,factorial)\n",
    "        \n",
    "\n"
   ]
  },
  {
   "cell_type": "code",
   "execution_count": 2,
   "id": "71d3eebb",
   "metadata": {},
   "outputs": [
    {
     "name": "stdout",
     "output_type": "stream",
     "text": [
      "15 is within the range [10,20]\n"
     ]
    }
   ],
   "source": [
    "#Write a Python function to check whether a number falls within a given range.\n",
    "def is_in_range(lower_limit,number,upper_limit): \n",
    "    return lower_limit <= number_to_check <=upper_limit\n",
    "\n",
    "number_to_check = 15\n",
    "lower_limit = 10\n",
    "upper_limit = 20\n",
    "if is_in_range(number_to_check,lower_limit,upper_limit):\n",
    "    print(f'{number_to_check} is within the range [{lower_limit},{upper_limit}]')\n",
    "else:\n",
    "    print(f'{number_to_check} is not within the range [{lower_limit},{upper_limit}]')\n",
    "\n",
    "        \n",
    "\n"
   ]
  },
  {
   "cell_type": "code",
   "execution_count": null,
   "id": "813ef4f9",
   "metadata": {},
   "outputs": [],
   "source": []
  }
 ],
 "metadata": {
  "kernelspec": {
   "display_name": "Python 3 (ipykernel)",
   "language": "python",
   "name": "python3"
  },
  "language_info": {
   "codemirror_mode": {
    "name": "ipython",
    "version": 3
   },
   "file_extension": ".py",
   "mimetype": "text/x-python",
   "name": "python",
   "nbconvert_exporter": "python",
   "pygments_lexer": "ipython3",
   "version": "3.9.12"
  }
 },
 "nbformat": 4,
 "nbformat_minor": 5
}
