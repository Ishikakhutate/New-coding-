{
 "cells": [
  {
   "cell_type": "markdown",
   "id": "5ff727ff",
   "metadata": {},
   "source": [
    "# Pick a Random Card using Python\n"
   ]
  },
  {
   "cell_type": "code",
   "execution_count": 7,
   "id": "90ccb04a",
   "metadata": {},
   "outputs": [
    {
     "name": "stdout",
     "output_type": "stream",
     "text": [
      "The [8] of ['Spades']\n"
     ]
    }
   ],
   "source": [
    "import random\n",
    "\n",
    "cards = ['Spades','Clubs','Dimaonds','Hearts']\n",
    "ranks = [2,3,4,5,6,7,8,9,10,'Jack','Queen','King','Ace']\n",
    "\n",
    "def pick_a_card():\n",
    "    card = random.choices(cards)\n",
    "    rank = random.choices(ranks)\n",
    "    return(f'The {rank} of {card}')\n",
    "print(pick_a_card())"
   ]
  },
  {
   "cell_type": "markdown",
   "id": "37c72781",
   "metadata": {},
   "source": [
    "# Send Instagram Message "
   ]
  },
  {
   "cell_type": "code",
   "execution_count": 10,
   "id": "2d3a1c55",
   "metadata": {
    "collapsed": true
   },
   "outputs": [
    {
     "name": "stdout",
     "output_type": "stream",
     "text": [
      "Requirement already satisfied: instabot in c:\\users\\hp\\anaconda3\\lib\\site-packages (0.117.0)\n",
      "Requirement already satisfied: pytz>=2019.3 in c:\\users\\hp\\anaconda3\\lib\\site-packages (from instabot) (2021.3)\n",
      "Requirement already satisfied: requests>=2.22.0 in c:\\users\\hp\\anaconda3\\lib\\site-packages (from instabot) (2.31.0)\n",
      "Requirement already satisfied: six>=1.14.0 in c:\\users\\hp\\anaconda3\\lib\\site-packages (from instabot) (1.16.0)\n",
      "Requirement already satisfied: idna>=2.8 in c:\\users\\hp\\anaconda3\\lib\\site-packages (from instabot) (3.3)\n",
      "Requirement already satisfied: tqdm>=4.41.1 in c:\\users\\hp\\anaconda3\\lib\\site-packages (from instabot) (4.64.0)\n",
      "Requirement already satisfied: pytest>=4.6.9 in c:\\users\\hp\\anaconda3\\lib\\site-packages (from instabot) (7.1.1)\n",
      "Requirement already satisfied: requests-toolbelt>=0.9.1 in c:\\users\\hp\\anaconda3\\lib\\site-packages (from instabot) (1.0.0)\n",
      "Requirement already satisfied: chardet>=3.0.4 in c:\\users\\hp\\anaconda3\\lib\\site-packages (from instabot) (4.0.0)\n",
      "Requirement already satisfied: future>=0.18.2 in c:\\users\\hp\\anaconda3\\lib\\site-packages (from instabot) (0.18.2)\n",
      "Requirement already satisfied: certifi>=2019.11.28 in c:\\users\\hp\\anaconda3\\lib\\site-packages (from instabot) (2021.10.8)\n",
      "Requirement already satisfied: pysocks>=1.7.1 in c:\\users\\hp\\anaconda3\\lib\\site-packages (from instabot) (1.7.1)\n",
      "Requirement already satisfied: schedule>=0.6.0 in c:\\users\\hp\\anaconda3\\lib\\site-packages (from instabot) (1.2.1)\n",
      "Requirement already satisfied: responses>=0.10.9 in c:\\users\\hp\\anaconda3\\lib\\site-packages (from instabot) (0.24.1)\n",
      "Requirement already satisfied: mock>=3.0.5 in c:\\users\\hp\\anaconda3\\lib\\site-packages (from instabot) (4.0.3)\n",
      "Requirement already satisfied: Pillow>=6.2.2 in c:\\users\\hp\\anaconda3\\lib\\site-packages (from instabot) (9.0.1)\n",
      "Requirement already satisfied: moviepy>=1.0.1 in c:\\users\\hp\\anaconda3\\lib\\site-packages (from instabot) (1.0.3)\n",
      "Requirement already satisfied: urllib3>=1.25.7 in c:\\users\\hp\\anaconda3\\lib\\site-packages (from instabot) (1.26.9)\n",
      "Requirement already satisfied: huepy>=1.2.1 in c:\\users\\hp\\anaconda3\\lib\\site-packages (from instabot) (1.2.1)\n",
      "Requirement already satisfied: imageio-ffmpeg>=0.2.0 in c:\\users\\hp\\anaconda3\\lib\\site-packages (from moviepy>=1.0.1->instabot) (0.4.9)\n",
      "Requirement already satisfied: imageio<3.0,>=2.5 in c:\\users\\hp\\anaconda3\\lib\\site-packages (from moviepy>=1.0.1->instabot) (2.9.0)\n",
      "Requirement already satisfied: decorator<5.0,>=4.0.2 in c:\\users\\hp\\anaconda3\\lib\\site-packages (from moviepy>=1.0.1->instabot) (4.4.2)\n",
      "Requirement already satisfied: proglog<=1.0.0 in c:\\users\\hp\\anaconda3\\lib\\site-packages (from moviepy>=1.0.1->instabot) (0.1.10)\n",
      "Requirement already satisfied: numpy in c:\\users\\hp\\anaconda3\\lib\\site-packages (from moviepy>=1.0.1->instabot) (1.21.5)\n",
      "Requirement already satisfied: setuptools in c:\\users\\hp\\anaconda3\\lib\\site-packages (from imageio-ffmpeg>=0.2.0->moviepy>=1.0.1->instabot) (61.2.0)\n",
      "Requirement already satisfied: attrs>=19.2.0 in c:\\users\\hp\\anaconda3\\lib\\site-packages (from pytest>=4.6.9->instabot) (21.4.0)\n",
      "Requirement already satisfied: iniconfig in c:\\users\\hp\\anaconda3\\lib\\site-packages (from pytest>=4.6.9->instabot) (1.1.1)\n",
      "Requirement already satisfied: packaging in c:\\users\\hp\\anaconda3\\lib\\site-packages (from pytest>=4.6.9->instabot) (21.3)\n",
      "Requirement already satisfied: pluggy<2.0,>=0.12 in c:\\users\\hp\\anaconda3\\lib\\site-packages (from pytest>=4.6.9->instabot) (1.0.0)\n",
      "Requirement already satisfied: py>=1.8.2 in c:\\users\\hp\\anaconda3\\lib\\site-packages (from pytest>=4.6.9->instabot) (1.11.0)\n",
      "Requirement already satisfied: tomli>=1.0.0 in c:\\users\\hp\\anaconda3\\lib\\site-packages (from pytest>=4.6.9->instabot) (1.2.2)\n",
      "Requirement already satisfied: atomicwrites>=1.0 in c:\\users\\hp\\anaconda3\\lib\\site-packages (from pytest>=4.6.9->instabot) (1.4.0)\n",
      "Requirement already satisfied: colorama in c:\\users\\hp\\anaconda3\\lib\\site-packages (from pytest>=4.6.9->instabot) (0.4.4)\n",
      "Requirement already satisfied: charset-normalizer<4,>=2 in c:\\users\\hp\\anaconda3\\lib\\site-packages (from requests>=2.22.0->instabot) (2.0.4)\n",
      "Requirement already satisfied: pyyaml in c:\\users\\hp\\anaconda3\\lib\\site-packages (from responses>=0.10.9->instabot) (6.0)\n",
      "Requirement already satisfied: pyparsing!=3.0.5,>=2.0.2 in c:\\users\\hp\\anaconda3\\lib\\site-packages (from packaging->pytest>=4.6.9->instabot) (3.0.4)\n",
      "Note: you may need to restart the kernel to use updated packages.\n"
     ]
    }
   ],
   "source": [
    "pip install instabot"
   ]
  },
  {
   "cell_type": "code",
   "execution_count": null,
   "id": "3da9f7c8",
   "metadata": {
    "collapsed": true
   },
   "outputs": [
    {
     "name": "stderr",
     "output_type": "stream",
     "text": [
      "2024-01-28 12:38:30,403 - INFO - Instabot version: 0.117.0 Started\n",
      "2024-01-28 12:38:30,403 - INFO - Not yet logged in starting: PRE-LOGIN FLOW!\n",
      "2024-01-28 12:38:31,199 - ERROR - Request returns 429 error!\n",
      "2024-01-28 12:38:31,201 - WARNING - That means 'too many requests'. I'll go to sleep for 5 minutes.\n"
     ]
    }
   ],
   "source": [
    "from instabot import Bot\n",
    "bot = Bot()\n",
    "\n",
    "bot.login(username=\"Your Username\", password=\"Your Password\")\n",
    "bot.send_message(\"Hi Brother\", [\"Receiver's Username\"])\n"
   ]
  },
  {
   "cell_type": "markdown",
   "id": "2c8cbad9",
   "metadata": {},
   "source": [
    "# Find missing Number "
   ]
  },
  {
   "cell_type": "code",
   "execution_count": 1,
   "id": "c602e36f",
   "metadata": {},
   "outputs": [
    {
     "name": "stdout",
     "output_type": "stream",
     "text": [
      "[6]\n"
     ]
    }
   ],
   "source": [
    "def find_missing_number(n):\n",
    "    numbers = set(n)\n",
    "    output = []\n",
    "    for i in range(1,n[-1]):\n",
    "        if i not in numbers:\n",
    "            output.append(i)\n",
    "    return output\n",
    "listofnumbers = [1,2,3,4,5,7,8,9,10,11,12,13]\n",
    "print(find_missing_number(listofnumbers))"
   ]
  },
  {
   "cell_type": "markdown",
   "id": "a87a200f",
   "metadata": {},
   "source": [
    "# Plotting Annotations using Python"
   ]
  },
  {
   "cell_type": "code",
   "execution_count": 9,
   "id": "97f8046e",
   "metadata": {},
   "outputs": [
    {
     "data": {
      "image/png": "[encoded data removed]",
      "text/plain": [
       "<Figure size 432x288 with 1 Axes>"
      ]
     },
     "metadata": {
      "needs_background": "light"
     },
     "output_type": "display_data"
    }
   ],
   "source": [
    "import matplotlib.pyplot as plt\n",
    "x = [1,2,3,6,8]\n",
    "y = [5,7,8,11,9]\n",
    "label = ['Jan','Feb','March','April','May']\n",
    "title = 'Scatter Plot'\n",
    "for i, j in enumerate(label):\n",
    "    plt.annotate(j, (x[i]+0.10, y[i]+0.10), fontsize=8)\n",
    "    \n",
    "plt.scatter(x, y)\n",
    "plt.show()\n",
    "\n"
   ]
  },
  {
   "cell_type": "markdown",
   "id": "2d869ad6",
   "metadata": {},
   "source": [
    "# Fibonacci Series "
   ]
  },
  {
   "cell_type": "code",
   "execution_count": 12,
   "id": "13f48f7d",
   "metadata": {},
   "outputs": [
    {
     "name": "stdout",
     "output_type": "stream",
     "text": [
      "[0, 1, 1, 2, 3, 5, 8, 13]\n"
     ]
    }
   ],
   "source": [
    "def generate_Fibonacci(n):\n",
    "    fibonacci_sequence = [0,1]\n",
    "    for i in range(2,n):\n",
    "        third_term = fibonacci_sequence[i-1] + fibonacci_sequence[i-2]\n",
    "        fibonacci_sequence.append(third_term)\n",
    "    return fibonacci_sequence\n",
    "print(generate_Fibonacci(8))\n",
    "\n"
   ]
  },
  {
   "cell_type": "code",
   "execution_count": null,
   "id": "4169c786",
   "metadata": {},
   "outputs": [],
   "source": []
  }
 ],
 "metadata": {
  "kernelspec": {
   "display_name": "Python 3 (ipykernel)",
   "language": "python",
   "name": "python3"
  },
  "language_info": {
   "codemirror_mode": {
    "name": "ipython",
    "version": 3
   },
   "file_extension": ".py",
   "mimetype": "text/x-python",
   "name": "python",
   "nbconvert_exporter": "python",
   "pygments_lexer": "ipython3",
   "version": "3.9.12"
  }
 },
 "nbformat": 4,
 "nbformat_minor": 5
}
