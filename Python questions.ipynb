{
 "cells": [
  {
   "cell_type": "code",
   "execution_count": 2,
   "id": "a482a0fd",
   "metadata": {},
   "outputs": [
    {
     "name": "stdout",
     "output_type": "stream",
     "text": [
      "Enter side of square:2\n",
      "Area of Square: 4.0\n",
      "Perimeter of Square: 8.0\n"
     ]
    }
   ],
   "source": [
    "#Accept sides of square and calculate the area and perimeter of given square\n",
    "side = float(input('Enter side of square:'))\n",
    "Area = side*2\n",
    "Perimeter = 4*side\n",
    "print( 'Area of Square:',Area)\n",
    "print('Perimeter of Square:',Perimeter)"
   ]
  },
  {
   "cell_type": "code",
   "execution_count": 3,
   "id": "e2112520",
   "metadata": {},
   "outputs": [
    {
     "name": "stdout",
     "output_type": "stream",
     "text": [
      "Enter the length:2\n",
      "Enter the breath:4\n",
      "Enter the base:5\n",
      "Area of triangle: 4.0\n",
      "Perimeter of triangle 11.0\n"
     ]
    }
   ],
   "source": [
    "##Accept sides of triangle and calculate the area and perimeter of given triangle\n",
    "a= float(input('Enter the length:'))\n",
    "b = float(input('Enter the breath:'))\n",
    "c = float(input('Enter the base:'))\n",
    "Area = 0.5*a*b\n",
    "perimeter = a+b+c\n",
    "print('Area of triangle:',Area)\n",
    "print('Perimeter of triangle',perimeter)"
   ]
  },
  {
   "cell_type": "code",
   "execution_count": 4,
   "id": "410f1f69",
   "metadata": {},
   "outputs": [
    {
     "name": "stdout",
     "output_type": "stream",
     "text": [
      "Enter the length of rectangle:5\n",
      "Enter the breadth of rectangle:7\n",
      "Area of rectangle: 35.0\n",
      "Perimeter of rectangle: 24.0\n"
     ]
    }
   ],
   "source": [
    "##Accept sides of rectangle and calculate the area and perimeter of given rectangle\n",
    "l = float(input('Enter the length of rectangle:'))\n",
    "b = float(input('Enter the breadth of rectangle:'))\n",
    "Area = l*b\n",
    "Perimeter = 2*l + 2*b\n",
    "print('Area of rectangle:',Area)\n",
    "print('Perimeter of rectangle:',Perimeter)\n",
    "\n"
   ]
  },
  {
   "cell_type": "code",
   "execution_count": 14,
   "id": "a84ca46a",
   "metadata": {},
   "outputs": [
    {
     "name": "stdout",
     "output_type": "stream",
     "text": [
      "Details of Student:\n",
      "Name: Ishika Khandelwal\n",
      "Mobile Number: 123456789\n",
      "Address: abc\n"
     ]
    }
   ],
   "source": [
    "#Write a program in Python to take details from a student for ID card and then print in different line\n",
    "print('Details of Student:')\n",
    "student_name = 'Ishika Khandelwal'\n",
    "student_number = 123456789\n",
    "student_address = 'abc'\n",
    "print( 'Name:',student_name )\n",
    "print('Mobile Number:',student_number)\n",
    "print('Address:',student_address)\n",
    "\n",
    "\n"
   ]
  },
  {
   "cell_type": "code",
   "execution_count": 16,
   "id": "0a1adb2a",
   "metadata": {},
   "outputs": [
    {
     "name": "stdout",
     "output_type": "stream",
     "text": [
      "Enter first number:2\n",
      "Enter second number:3\n",
      "The value of a after swapping 3\n",
      "The value of b after swapping 2\n"
     ]
    }
   ],
   "source": [
    "#accept two numbers from user and swap both numbers\n",
    "a = int(input('Enter first number:'))\n",
    "b = int(input('Enter second number:'))\n",
    "temp = a\n",
    "a = b\n",
    "b = temp \n",
    "print('The value of a after swapping',a)\n",
    "print('The value of b after swapping',b)"
   ]
  },
  {
   "cell_type": "code",
   "execution_count": null,
   "id": "c5750837",
   "metadata": {},
   "outputs": [],
   "source": []
  }
 ],
 "metadata": {
  "kernelspec": {
   "display_name": "Python 3 (ipykernel)",
   "language": "python",
   "name": "python3"
  },
  "language_info": {
   "codemirror_mode": {
    "name": "ipython",
    "version": 3
   },
   "file_extension": ".py",
   "mimetype": "text/x-python",
   "name": "python",
   "nbconvert_exporter": "python",
   "pygments_lexer": "ipython3",
   "version": "3.9.12"
  }
 },
 "nbformat": 4,
 "nbformat_minor": 5
}
